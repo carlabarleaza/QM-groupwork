{
  "nbformat": 4,
  "nbformat_minor": 0,
  "metadata": {
    "colab": {
      "name": "boxplots",
      "provenance": [],
      "collapsed_sections": [],
      "authorship_tag": "ABX9TyNiy2zivvGAcjz1KtiXEaXf",
      "include_colab_link": true
    },
    "kernelspec": {
      "name": "python3",
      "display_name": "Python 3"
    }
  },
  "cells": [
    {
      "cell_type": "markdown",
      "metadata": {
        "id": "view-in-github",
        "colab_type": "text"
      },
      "source": [
        "<a href=\"https://colab.research.google.com/github/carlabarleaza/QM-groupwork/blob/main/boxplots.ipynb\" target=\"_parent\"><img src=\"https://colab.research.google.com/assets/colab-badge.svg\" alt=\"Open In Colab\"/></a>"
      ]
    },
    {
      "cell_type": "code",
      "metadata": {
        "id": "qfABBulI6Nqt"
      },
      "source": [
        "import pandas as pd\n",
        "import pylab\n",
        "import matplotlib.pyplot as plt\n",
        "%matplotlib inline"
      ],
      "execution_count": 9,
      "outputs": []
    },
    {
      "cell_type": "code",
      "metadata": {
        "id": "7fjHvp4l6Tej"
      },
      "source": [
        "df = pd.read_csv(\"sample_data/viral_meta.csv\")"
      ],
      "execution_count": 11,
      "outputs": []
    },
    {
      "cell_type": "code",
      "metadata": {
        "colab": {
          "base_uri": "https://localhost:8080/",
          "height": 581
        },
        "id": "Xa7Ny_as6jbE",
        "outputId": "6529905c-89a2-4c20-bf6b-7e47197e3d26"
      },
      "source": [
        "df.head()"
      ],
      "execution_count": 12,
      "outputs": [
        {
          "output_type": "execute_result",
          "data": {
            "text/html": [
              "<div>\n",
              "<style scoped>\n",
              "    .dataframe tbody tr th:only-of-type {\n",
              "        vertical-align: middle;\n",
              "    }\n",
              "\n",
              "    .dataframe tbody tr th {\n",
              "        vertical-align: top;\n",
              "    }\n",
              "\n",
              "    .dataframe thead th {\n",
              "        text-align: right;\n",
              "    }\n",
              "</style>\n",
              "<table border=\"1\" class=\"dataframe\">\n",
              "  <thead>\n",
              "    <tr style=\"text-align: right;\">\n",
              "      <th></th>\n",
              "      <th>video_id</th>\n",
              "      <th>video_title</th>\n",
              "      <th>view_count</th>\n",
              "      <th>category</th>\n",
              "      <th>duration_in_seconds</th>\n",
              "      <th>upload_time</th>\n",
              "      <th>captured_time</th>\n",
              "      <th>avg_rate</th>\n",
              "      <th>max_rate</th>\n",
              "      <th>min_rate</th>\n",
              "      <th>num_raters</th>\n",
              "      <th>num_dislikes</th>\n",
              "      <th>num_likes</th>\n",
              "      <th>uploader_id</th>\n",
              "      <th>uploader_name</th>\n",
              "      <th>uploader_url</th>\n",
              "      <th>video_desp</th>\n",
              "    </tr>\n",
              "  </thead>\n",
              "  <tbody>\n",
              "    <tr>\n",
              "      <th>0</th>\n",
              "      <td>-_49VS4nuao</td>\n",
              "      <td>Elmo and Cookie Monster have some Adult Fun</td>\n",
              "      <td>1313791</td>\n",
              "      <td>Comedy</td>\n",
              "      <td>42</td>\n",
              "      <td>2008-12-28T21:57:55.000Z</td>\n",
              "      <td>01/18/13</td>\n",
              "      <td>4.921736</td>\n",
              "      <td>5.0</td>\n",
              "      <td>1.0</td>\n",
              "      <td>9864</td>\n",
              "      <td>193</td>\n",
              "      <td>9671</td>\n",
              "      <td>ZcSyg9WKALBO4r97-pjmAg</td>\n",
              "      <td>Dan Wilson</td>\n",
              "      <td>https://gdata.youtube.com/feeds/api/users/dani...</td>\n",
              "      <td>Discovered completely by accident by putting t...</td>\n",
              "    </tr>\n",
              "    <tr>\n",
              "      <th>1</th>\n",
              "      <td>-goXKtd6cPo</td>\n",
              "      <td>First Blog / Dorkiness Prevails</td>\n",
              "      <td>4484903</td>\n",
              "      <td>Film</td>\n",
              "      <td>95</td>\n",
              "      <td>2006-06-16T18:49:21.000Z</td>\n",
              "      <td>01/18/13</td>\n",
              "      <td>3.255860</td>\n",
              "      <td>5.0</td>\n",
              "      <td>1.0</td>\n",
              "      <td>10068</td>\n",
              "      <td>4390</td>\n",
              "      <td>5678</td>\n",
              "      <td>VEfyEuLJpgw_y4jSgV8Rtg</td>\n",
              "      <td>lonelygirl15</td>\n",
              "      <td>https://gdata.youtube.com/feeds/api/users/lone...</td>\n",
              "      <td>So, I finally got a webcam and got it working ...</td>\n",
              "    </tr>\n",
              "    <tr>\n",
              "      <th>2</th>\n",
              "      <td>-HePTmrV-og</td>\n",
              "      <td>We Love You Maria Venus Raj 22 Philippines</td>\n",
              "      <td>3556190</td>\n",
              "      <td>Entertainment</td>\n",
              "      <td>253</td>\n",
              "      <td>2010-08-24T08:27:12.000Z</td>\n",
              "      <td>01/18/13</td>\n",
              "      <td>4.797153</td>\n",
              "      <td>5.0</td>\n",
              "      <td>1.0</td>\n",
              "      <td>16860</td>\n",
              "      <td>855</td>\n",
              "      <td>16005</td>\n",
              "      <td>u1TBcXNK29GvIwud6rVJQw</td>\n",
              "      <td>lexlib</td>\n",
              "      <td>https://gdata.youtube.com/feeds/api/users/lexlib</td>\n",
              "      <td>We are only among many who went wild. Irina, M...</td>\n",
              "    </tr>\n",
              "    <tr>\n",
              "      <th>3</th>\n",
              "      <td>-kIJqXLMLwc</td>\n",
              "      <td>shiba inu white pupy 【超可愛い】【初公開】白柴くもくんの鳴き声</td>\n",
              "      <td>5914475</td>\n",
              "      <td>Animals</td>\n",
              "      <td>49</td>\n",
              "      <td>2009-09-19T05:53:24.000Z</td>\n",
              "      <td>01/18/13</td>\n",
              "      <td>4.959495</td>\n",
              "      <td>5.0</td>\n",
              "      <td>1.0</td>\n",
              "      <td>39007</td>\n",
              "      <td>395</td>\n",
              "      <td>38612</td>\n",
              "      <td>RL7_KwtbtYqACtAaWXA6Tw</td>\n",
              "      <td>okanouefamily</td>\n",
              "      <td>https://gdata.youtube.com/feeds/api/users/okan...</td>\n",
              "      <td>生まれて9日目のくもくんです。 Thank you for watching this mo...</td>\n",
              "    </tr>\n",
              "    <tr>\n",
              "      <th>4</th>\n",
              "      <td>-UaW6zYQDQE</td>\n",
              "      <td>Mariko Takahashi's Fitness Video</td>\n",
              "      <td>590989</td>\n",
              "      <td>Howto</td>\n",
              "      <td>210</td>\n",
              "      <td>2006-03-16T05:43:31.000Z</td>\n",
              "      <td>01/18/13</td>\n",
              "      <td>4.552616</td>\n",
              "      <td>5.0</td>\n",
              "      <td>1.0</td>\n",
              "      <td>1663</td>\n",
              "      <td>186</td>\n",
              "      <td>1477</td>\n",
              "      <td>ajte6UFGsKtxCvNabt26RQ</td>\n",
              "      <td>vinylboy20</td>\n",
              "      <td>https://gdata.youtube.com/feeds/api/users/viny...</td>\n",
              "      <td>This is a mesmerizing and frightening video. I...</td>\n",
              "    </tr>\n",
              "  </tbody>\n",
              "</table>\n",
              "</div>"
            ],
            "text/plain": [
              "      video_id  ...                                         video_desp\n",
              "0  -_49VS4nuao  ...  Discovered completely by accident by putting t...\n",
              "1  -goXKtd6cPo  ...  So, I finally got a webcam and got it working ...\n",
              "2  -HePTmrV-og  ...  We are only among many who went wild. Irina, M...\n",
              "3  -kIJqXLMLwc  ...  生まれて9日目のくもくんです。 Thank you for watching this mo...\n",
              "4  -UaW6zYQDQE  ...  This is a mesmerizing and frightening video. I...\n",
              "\n",
              "[5 rows x 17 columns]"
            ]
          },
          "metadata": {
            "tags": []
          },
          "execution_count": 12
        }
      ]
    },
    {
      "cell_type": "code",
      "metadata": {
        "colab": {
          "base_uri": "https://localhost:8080/",
          "height": 293
        },
        "id": "BJTyK-WU6lo4",
        "outputId": "b362905b-613d-4600-8584-ad60c797c41c"
      },
      "source": [
        "plt.scatter(df['duration_in_seconds'], df['view_count'], color='g', alpha=0.6)\n"
      ],
      "execution_count": 25,
      "outputs": [
        {
          "output_type": "execute_result",
          "data": {
            "text/plain": [
              "<matplotlib.collections.PathCollection at 0x7ff074988dd8>"
            ]
          },
          "metadata": {
            "tags": []
          },
          "execution_count": 25
        },
        {
          "output_type": "display_data",
          "data": {
            "image/png": "[encoded data removed]",
            "text/plain": [
              "<Figure size 432x288 with 1 Axes>"
            ]
          },
          "metadata": {
            "tags": [],
            "needs_background": "light"
          }
        }
      ]
    }
  ]
}