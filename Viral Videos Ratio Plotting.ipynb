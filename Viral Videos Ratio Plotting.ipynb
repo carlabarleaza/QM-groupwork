{
 "cells": [
  {
   "cell_type": "markdown",
   "metadata": {},
   "source": [
    "## Importing Libraries"
   ]
  },
  {
   "cell_type": "code",
   "execution_count": 58,
   "metadata": {},
   "outputs": [],
   "source": [
    "#Importing libraries\n",
    "import numpy as np\n",
    "import pandas as pd\n",
    "import matplotlib.pyplot as plt\n",
    "%matplotlib inline\n",
    "import seaborn as sns"
   ]
  },
  {
   "cell_type": "markdown",
   "metadata": {},
   "source": [
    "## Loading file"
   ]
  },
  {
   "cell_type": "code",
   "execution_count": 59,
   "metadata": {},
   "outputs": [],
   "source": [
    "#loading the file\n",
    "filename = 'Group_11_dataframe.xls'\n",
    "df = pd.read_excel(filename)"
   ]
  },
  {
   "cell_type": "markdown",
   "metadata": {},
   "source": [
    "## Using .head() to see the first 5 rows"
   ]
  },
  {
   "cell_type": "code",
   "execution_count": 60,
   "metadata": {},
   "outputs": [
    {
     "data": {
      "text/html": [
       "<div>\n",
       "<style scoped>\n",
       "    .dataframe tbody tr th:only-of-type {\n",
       "        vertical-align: middle;\n",
       "    }\n",
       "\n",
       "    .dataframe tbody tr th {\n",
       "        vertical-align: top;\n",
       "    }\n",
       "\n",
       "    .dataframe thead th {\n",
       "        text-align: right;\n",
       "    }\n",
       "</style>\n",
       "<table border=\"1\" class=\"dataframe\">\n",
       "  <thead>\n",
       "    <tr style=\"text-align: right;\">\n",
       "      <th></th>\n",
       "      <th>video_title</th>\n",
       "      <th>view_count</th>\n",
       "      <th>category</th>\n",
       "      <th>duration_in_seconds</th>\n",
       "      <th>upload_time</th>\n",
       "      <th>captured_time</th>\n",
       "      <th>num_dislikes</th>\n",
       "      <th>num_likes</th>\n",
       "      <th>video_desp</th>\n",
       "      <th>ratio</th>\n",
       "      <th>new_view_count</th>\n",
       "    </tr>\n",
       "  </thead>\n",
       "  <tbody>\n",
       "    <tr>\n",
       "      <th>0</th>\n",
       "      <td>Elmo and Cookie Monster have some Adult Fun</td>\n",
       "      <td>1313791</td>\n",
       "      <td>Comedy</td>\n",
       "      <td>42</td>\n",
       "      <td>2008-12-28T21:57:55.000Z</td>\n",
       "      <td>01/18/13</td>\n",
       "      <td>193</td>\n",
       "      <td>9671</td>\n",
       "      <td>Discovered completely by accident by putting t...</td>\n",
       "      <td>98.043390</td>\n",
       "      <td>1.313791</td>\n",
       "    </tr>\n",
       "    <tr>\n",
       "      <th>1</th>\n",
       "      <td>First Blog / Dorkiness Prevails</td>\n",
       "      <td>4484903</td>\n",
       "      <td>Film</td>\n",
       "      <td>95</td>\n",
       "      <td>2006-06-16T18:49:21.000Z</td>\n",
       "      <td>01/18/13</td>\n",
       "      <td>4390</td>\n",
       "      <td>5678</td>\n",
       "      <td>So, I finally got a webcam and got it working ...</td>\n",
       "      <td>56.396504</td>\n",
       "      <td>4.484903</td>\n",
       "    </tr>\n",
       "    <tr>\n",
       "      <th>2</th>\n",
       "      <td>We Love You Maria Venus Raj 22 Philippines</td>\n",
       "      <td>3556190</td>\n",
       "      <td>Entertainment</td>\n",
       "      <td>253</td>\n",
       "      <td>2010-08-24T08:27:12.000Z</td>\n",
       "      <td>01/18/13</td>\n",
       "      <td>855</td>\n",
       "      <td>16005</td>\n",
       "      <td>We are only among many who went wild. Irina, M...</td>\n",
       "      <td>94.928826</td>\n",
       "      <td>3.556190</td>\n",
       "    </tr>\n",
       "    <tr>\n",
       "      <th>3</th>\n",
       "      <td>shiba inu white pupy 【超可愛い】【初公開】白柴くもくんの鳴き声</td>\n",
       "      <td>5914475</td>\n",
       "      <td>Animals</td>\n",
       "      <td>49</td>\n",
       "      <td>2009-09-19T05:53:24.000Z</td>\n",
       "      <td>01/18/13</td>\n",
       "      <td>395</td>\n",
       "      <td>38612</td>\n",
       "      <td>生まれて9日目のくもくんです。 Thank you for watching this mo...</td>\n",
       "      <td>98.987361</td>\n",
       "      <td>5.914475</td>\n",
       "    </tr>\n",
       "    <tr>\n",
       "      <th>4</th>\n",
       "      <td>Mariko Takahashi's Fitness Video</td>\n",
       "      <td>590989</td>\n",
       "      <td>Howto</td>\n",
       "      <td>210</td>\n",
       "      <td>2006-03-16T05:43:31.000Z</td>\n",
       "      <td>01/18/13</td>\n",
       "      <td>186</td>\n",
       "      <td>1477</td>\n",
       "      <td>This is a mesmerizing and frightening video. I...</td>\n",
       "      <td>88.815394</td>\n",
       "      <td>0.590989</td>\n",
       "    </tr>\n",
       "  </tbody>\n",
       "</table>\n",
       "</div>"
      ],
      "text/plain": [
       "                                   video_title  view_count       category  \\\n",
       "0  Elmo and Cookie Monster have some Adult Fun     1313791         Comedy   \n",
       "1              First Blog / Dorkiness Prevails     4484903           Film   \n",
       "2   We Love You Maria Venus Raj 22 Philippines     3556190  Entertainment   \n",
       "3   shiba inu white pupy 【超可愛い】【初公開】白柴くもくんの鳴き声     5914475        Animals   \n",
       "4             Mariko Takahashi's Fitness Video      590989          Howto   \n",
       "\n",
       "   duration_in_seconds               upload_time captured_time  num_dislikes  \\\n",
       "0                   42  2008-12-28T21:57:55.000Z      01/18/13           193   \n",
       "1                   95  2006-06-16T18:49:21.000Z      01/18/13          4390   \n",
       "2                  253  2010-08-24T08:27:12.000Z      01/18/13           855   \n",
       "3                   49  2009-09-19T05:53:24.000Z      01/18/13           395   \n",
       "4                  210  2006-03-16T05:43:31.000Z      01/18/13           186   \n",
       "\n",
       "   num_likes                                         video_desp      ratio  \\\n",
       "0       9671  Discovered completely by accident by putting t...  98.043390   \n",
       "1       5678  So, I finally got a webcam and got it working ...  56.396504   \n",
       "2      16005  We are only among many who went wild. Irina, M...  94.928826   \n",
       "3      38612  生まれて9日目のくもくんです。 Thank you for watching this mo...  98.987361   \n",
       "4       1477  This is a mesmerizing and frightening video. I...  88.815394   \n",
       "\n",
       "   new_view_count  \n",
       "0        1.313791  \n",
       "1        4.484903  \n",
       "2        3.556190  \n",
       "3        5.914475  \n",
       "4        0.590989  "
      ]
     },
     "execution_count": 60,
     "metadata": {},
     "output_type": "execute_result"
    }
   ],
   "source": [
    "df.head()"
   ]
  },
  {
   "cell_type": "markdown",
   "metadata": {},
   "source": [
    "## Checking our datatype"
   ]
  },
  {
   "cell_type": "code",
   "execution_count": 61,
   "metadata": {},
   "outputs": [
    {
     "name": "stdout",
     "output_type": "stream",
     "text": [
      "<class 'pandas.core.frame.DataFrame'>\n",
      "RangeIndex: 446 entries, 0 to 445\n",
      "Data columns (total 11 columns):\n",
      " #   Column               Non-Null Count  Dtype  \n",
      "---  ------               --------------  -----  \n",
      " 0   video_title          446 non-null    object \n",
      " 1   view_count           446 non-null    int64  \n",
      " 2   category             446 non-null    object \n",
      " 3   duration_in_seconds  446 non-null    int64  \n",
      " 4   upload_time          446 non-null    object \n",
      " 5   captured_time        446 non-null    object \n",
      " 6   num_dislikes         446 non-null    int64  \n",
      " 7   num_likes            446 non-null    int64  \n",
      " 8   video_desp           445 non-null    object \n",
      " 9   ratio                446 non-null    float64\n",
      " 10  new_view_count       446 non-null    float64\n",
      "dtypes: float64(2), int64(4), object(5)\n",
      "memory usage: 38.5+ KB\n"
     ]
    }
   ],
   "source": [
    "df.info()\n",
    "#this is also helpful to see if there are any missing values"
   ]
  },
  {
   "cell_type": "markdown",
   "metadata": {},
   "source": [
    "- There were 2 missing rows for the Ratio column:\n",
    "    This was because the likes and dislikes for these videos are equal to 0, and dividing by 0 results in an error (NaN value). The ratio for these two rows has been assigned to 0.\n",
    "- The 'new_view_count' column is the 'view_count' column divided by 1 million. All the videos in the dataframe have at least 1 million views, so this new column enables us to look at the values in an easier way.\n",
    "- The 'ratio' column is the percentage of likes a video gets. It was calculated using the following formula: (num_likes/(num_likes + num_dislikes) * 100)\n"
   ]
  },
  {
   "cell_type": "markdown",
   "metadata": {},
   "source": [
    "## Scatterplots"
   ]
  },
  {
   "cell_type": "code",
   "execution_count": 62,
   "metadata": {},
   "outputs": [
    {
     "data": {
      "image/png": "[encoded data removed]",
      "text/plain": [
       "<Figure size 432x288 with 1 Axes>"
      ]
     },
     "metadata": {
      "needs_background": "light"
     },
     "output_type": "display_data"
    }
   ],
   "source": [
    "#matplotlib scatter plot\n",
    "\n",
    "x = df.ratio\n",
    "y = df.new_view_count\n",
    "plt.scatter(x,y, s=10, c='blue')\n",
    "plt.xlabel('Ratio (%)')\n",
    "plt.ylabel('Views (Millions)')\n",
    "plt.title('Likes to Dislikes Ratio over Views')\n",
    "plt.tight_layout()"
   ]
  },
  {
   "cell_type": "markdown",
   "metadata": {},
   "source": [
    "### This scatter plot is hard to look at because of the outliers who make it to zoomed out. \n",
    "### To make it clearer, a new scatter plot will be made without these outliers."
   ]
  },
  {
   "cell_type": "code",
   "execution_count": 63,
   "metadata": {},
   "outputs": [
    {
     "data": {
      "image/png": "[encoded data removed]",
      "text/plain": [
       "<Figure size 432x288 with 1 Axes>"
      ]
     },
     "metadata": {
      "needs_background": "light"
     },
     "output_type": "display_data"
    }
   ],
   "source": [
    "#removing outliers\n",
    "x = df['ratio']\n",
    "removed_outliers1 = x.between(x.quantile(.05), x.quantile(.95))\n",
    "y = df['new_view_count']\n",
    "removed_outliers2 = y.between(y.quantile(.05), y.quantile(.95))\n",
    "#doing a scatterplot\n",
    "plt.scatter(x[removed_outliers1],y[removed_outliers2], s=10, c='blue')\n",
    "plt.xlabel('Ratio (%)')\n",
    "plt.ylabel('Views (Millions)')\n",
    "plt.title('Likes to Dislikes Ratio over Views, Without Outliers')\n",
    "plt.tight_layout()\n"
   ]
  },
  {
   "cell_type": "markdown",
   "metadata": {},
   "source": [
    "## Boxplot\n",
    "### Since many outliers were observable, I thought it would be interesting to do a boxplot"
   ]
  },
  {
   "cell_type": "code",
   "execution_count": 42,
   "metadata": {},
   "outputs": [
    {
     "data": {
      "image/png": "[encoded data removed]",
      "text/plain": [
       "<Figure size 432x288 with 1 Axes>"
      ]
     },
     "metadata": {
      "needs_background": "light"
     },
     "output_type": "display_data"
    }
   ],
   "source": [
    "## boxplot of the ratio column\n",
    "sns.boxplot(x='ratio', data=df)\n",
    "plt.suptitle(\"\")\n",
    "plt.xlabel('Ratio (%)')\n",
    "plt.title('Likes to Dislikes Ratio Boxplot')\n",
    "\n",
    "plt.tight_layout()"
   ]
  },
  {
   "cell_type": "code",
   "execution_count": 65,
   "metadata": {},
   "outputs": [
    {
     "data": {
      "image/png": "[encoded data removed]",
      "text/plain": [
       "<Figure size 432x288 with 1 Axes>"
      ]
     },
     "metadata": {
      "needs_background": "light"
     },
     "output_type": "display_data"
    }
   ],
   "source": [
    "##boxplot of the 'ratio' column for each category\n",
    "df.boxplot(column='ratio', by ='category', color=dict(boxes='b', whiskers='r', medians='y', caps='k'),\n",
    "             boxprops=dict(linestyle='-', linewidth=1.5),\n",
    "             flierprops=dict(linestyle='-', linewidth=1.5),\n",
    "             medianprops=dict(linestyle='-', linewidth=1.5),\n",
    "             whiskerprops=dict(linestyle='-', linewidth=1.5),\n",
    "             capprops=dict(linestyle='-', linewidth=1.5),\n",
    "             showfliers=False, grid=True, rot=90)\n",
    "plt.suptitle(\"\")\n",
    "plt.xlabel('Category')\n",
    "\n",
    "plt.ylabel('Ratio (%)')\n",
    "plt.title('Likes to Dislikes Ratio Boxplot by Category')\n",
    "\n",
    "plt.tight_layout()"
   ]
  },
  {
   "cell_type": "code",
   "execution_count": null,
   "metadata": {},
   "outputs": [],
   "source": []
  }
 ],
 "metadata": {
  "kernelspec": {
   "display_name": "Python 3",
   "language": "python",
   "name": "python3"
  }
 },
 "nbformat": 4,
 "nbformat_minor": 4
}
