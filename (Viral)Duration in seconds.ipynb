{
 "cells": [
  {
   "cell_type": "markdown",
   "metadata": {},
   "source": [
    "## Importing Libraries"
   ]
  },
  {
   "cell_type": "code",
   "execution_count": 1,
   "metadata": {},
   "outputs": [],
   "source": [
    "#Importing libraries\n",
    "import numpy as np\n",
    "import pandas as pd\n",
    "import matplotlib.pyplot as plt\n",
    "%matplotlib inline"
   ]
  },
  {
   "cell_type": "markdown",
   "metadata": {},
   "source": [
    "## Loading file"
   ]
  },
  {
   "cell_type": "code",
   "execution_count": 8,
   "metadata": {},
   "outputs": [],
   "source": [
    "filename = 'clean_viral_meta.csv'\n",
    "df = pd.read_csv(filename)"
   ]
  },
  {
   "cell_type": "code",
   "execution_count": 9,
   "metadata": {},
   "outputs": [
    {
     "data": {
      "text/html": [
       "<div>\n",
       "<style scoped>\n",
       "    .dataframe tbody tr th:only-of-type {\n",
       "        vertical-align: middle;\n",
       "    }\n",
       "\n",
       "    .dataframe tbody tr th {\n",
       "        vertical-align: top;\n",
       "    }\n",
       "\n",
       "    .dataframe thead th {\n",
       "        text-align: right;\n",
       "    }\n",
       "</style>\n",
       "<table border=\"1\" class=\"dataframe\">\n",
       "  <thead>\n",
       "    <tr style=\"text-align: right;\">\n",
       "      <th></th>\n",
       "      <th>video_id</th>\n",
       "      <th>video_title</th>\n",
       "      <th>view_count</th>\n",
       "      <th>category</th>\n",
       "      <th>duration_in_seconds</th>\n",
       "      <th>upload_time</th>\n",
       "      <th>captured_time</th>\n",
       "      <th>avg_rate</th>\n",
       "      <th>max_rate</th>\n",
       "      <th>min_rate</th>\n",
       "      <th>num_raters</th>\n",
       "      <th>num_dislikes</th>\n",
       "      <th>num_likes</th>\n",
       "      <th>uploader_id</th>\n",
       "      <th>uploader_name</th>\n",
       "      <th>uploader_url</th>\n",
       "      <th>video_desp</th>\n",
       "      <th>percentage_of_likes</th>\n",
       "      <th>views_million</th>\n",
       "    </tr>\n",
       "  </thead>\n",
       "  <tbody>\n",
       "    <tr>\n",
       "      <th>0</th>\n",
       "      <td>-_49VS4nuao</td>\n",
       "      <td>Elmo and Cookie Monster have some Adult Fun</td>\n",
       "      <td>1313791</td>\n",
       "      <td>Comedy</td>\n",
       "      <td>42</td>\n",
       "      <td>2008-12-28T21:57:55.000Z</td>\n",
       "      <td>01/18/13</td>\n",
       "      <td>4.921736</td>\n",
       "      <td>5.0</td>\n",
       "      <td>1.0</td>\n",
       "      <td>9864</td>\n",
       "      <td>193</td>\n",
       "      <td>9671</td>\n",
       "      <td>ZcSyg9WKALBO4r97-pjmAg</td>\n",
       "      <td>Dan Wilson</td>\n",
       "      <td>https://gdata.youtube.com/feeds/api/users/dani...</td>\n",
       "      <td>Discovered completely by accident by putting t...</td>\n",
       "      <td>98.043390</td>\n",
       "      <td>1.313791</td>\n",
       "    </tr>\n",
       "    <tr>\n",
       "      <th>1</th>\n",
       "      <td>-goXKtd6cPo</td>\n",
       "      <td>First Blog / Dorkiness Prevails</td>\n",
       "      <td>4484903</td>\n",
       "      <td>Film</td>\n",
       "      <td>95</td>\n",
       "      <td>2006-06-16T18:49:21.000Z</td>\n",
       "      <td>01/18/13</td>\n",
       "      <td>3.255860</td>\n",
       "      <td>5.0</td>\n",
       "      <td>1.0</td>\n",
       "      <td>10068</td>\n",
       "      <td>4390</td>\n",
       "      <td>5678</td>\n",
       "      <td>VEfyEuLJpgw_y4jSgV8Rtg</td>\n",
       "      <td>lonelygirl15</td>\n",
       "      <td>https://gdata.youtube.com/feeds/api/users/lone...</td>\n",
       "      <td>So, I finally got a webcam and got it working ...</td>\n",
       "      <td>56.396504</td>\n",
       "      <td>4.484903</td>\n",
       "    </tr>\n",
       "    <tr>\n",
       "      <th>2</th>\n",
       "      <td>-HePTmrV-og</td>\n",
       "      <td>We Love You Maria Venus Raj 22 Philippines</td>\n",
       "      <td>3556190</td>\n",
       "      <td>Entertainment</td>\n",
       "      <td>253</td>\n",
       "      <td>2010-08-24T08:27:12.000Z</td>\n",
       "      <td>01/18/13</td>\n",
       "      <td>4.797153</td>\n",
       "      <td>5.0</td>\n",
       "      <td>1.0</td>\n",
       "      <td>16860</td>\n",
       "      <td>855</td>\n",
       "      <td>16005</td>\n",
       "      <td>u1TBcXNK29GvIwud6rVJQw</td>\n",
       "      <td>lexlib</td>\n",
       "      <td>https://gdata.youtube.com/feeds/api/users/lexlib</td>\n",
       "      <td>We are only among many who went wild. Irina, M...</td>\n",
       "      <td>94.928826</td>\n",
       "      <td>3.556190</td>\n",
       "    </tr>\n",
       "    <tr>\n",
       "      <th>3</th>\n",
       "      <td>-kIJqXLMLwc</td>\n",
       "      <td>shiba inu white pupy 【超可愛い】【初公開】白柴くもくんの鳴き声</td>\n",
       "      <td>5914475</td>\n",
       "      <td>Animals</td>\n",
       "      <td>49</td>\n",
       "      <td>2009-09-19T05:53:24.000Z</td>\n",
       "      <td>01/18/13</td>\n",
       "      <td>4.959495</td>\n",
       "      <td>5.0</td>\n",
       "      <td>1.0</td>\n",
       "      <td>39007</td>\n",
       "      <td>395</td>\n",
       "      <td>38612</td>\n",
       "      <td>RL7_KwtbtYqACtAaWXA6Tw</td>\n",
       "      <td>okanouefamily</td>\n",
       "      <td>https://gdata.youtube.com/feeds/api/users/okan...</td>\n",
       "      <td>生まれて9日目のくもくんです。 Thank you for watching this mo...</td>\n",
       "      <td>98.987361</td>\n",
       "      <td>5.914475</td>\n",
       "    </tr>\n",
       "    <tr>\n",
       "      <th>4</th>\n",
       "      <td>-UaW6zYQDQE</td>\n",
       "      <td>Mariko Takahashi's Fitness Video</td>\n",
       "      <td>590989</td>\n",
       "      <td>Howto</td>\n",
       "      <td>210</td>\n",
       "      <td>2006-03-16T05:43:31.000Z</td>\n",
       "      <td>01/18/13</td>\n",
       "      <td>4.552616</td>\n",
       "      <td>5.0</td>\n",
       "      <td>1.0</td>\n",
       "      <td>1663</td>\n",
       "      <td>186</td>\n",
       "      <td>1477</td>\n",
       "      <td>ajte6UFGsKtxCvNabt26RQ</td>\n",
       "      <td>vinylboy20</td>\n",
       "      <td>https://gdata.youtube.com/feeds/api/users/viny...</td>\n",
       "      <td>This is a mesmerizing and frightening video. I...</td>\n",
       "      <td>88.815394</td>\n",
       "      <td>0.590989</td>\n",
       "    </tr>\n",
       "  </tbody>\n",
       "</table>\n",
       "</div>"
      ],
      "text/plain": [
       "      video_id                                  video_title  view_count  \\\n",
       "0  -_49VS4nuao  Elmo and Cookie Monster have some Adult Fun     1313791   \n",
       "1  -goXKtd6cPo              First Blog / Dorkiness Prevails     4484903   \n",
       "2  -HePTmrV-og   We Love You Maria Venus Raj 22 Philippines     3556190   \n",
       "3  -kIJqXLMLwc   shiba inu white pupy 【超可愛い】【初公開】白柴くもくんの鳴き声     5914475   \n",
       "4  -UaW6zYQDQE             Mariko Takahashi's Fitness Video      590989   \n",
       "\n",
       "        category  duration_in_seconds               upload_time captured_time  \\\n",
       "0         Comedy                   42  2008-12-28T21:57:55.000Z      01/18/13   \n",
       "1           Film                   95  2006-06-16T18:49:21.000Z      01/18/13   \n",
       "2  Entertainment                  253  2010-08-24T08:27:12.000Z      01/18/13   \n",
       "3        Animals                   49  2009-09-19T05:53:24.000Z      01/18/13   \n",
       "4          Howto                  210  2006-03-16T05:43:31.000Z      01/18/13   \n",
       "\n",
       "   avg_rate  max_rate  min_rate  num_raters  num_dislikes  num_likes  \\\n",
       "0  4.921736       5.0       1.0        9864           193       9671   \n",
       "1  3.255860       5.0       1.0       10068          4390       5678   \n",
       "2  4.797153       5.0       1.0       16860           855      16005   \n",
       "3  4.959495       5.0       1.0       39007           395      38612   \n",
       "4  4.552616       5.0       1.0        1663           186       1477   \n",
       "\n",
       "              uploader_id  uploader_name  \\\n",
       "0  ZcSyg9WKALBO4r97-pjmAg     Dan Wilson   \n",
       "1  VEfyEuLJpgw_y4jSgV8Rtg   lonelygirl15   \n",
       "2  u1TBcXNK29GvIwud6rVJQw         lexlib   \n",
       "3  RL7_KwtbtYqACtAaWXA6Tw  okanouefamily   \n",
       "4  ajte6UFGsKtxCvNabt26RQ     vinylboy20   \n",
       "\n",
       "                                        uploader_url  \\\n",
       "0  https://gdata.youtube.com/feeds/api/users/dani...   \n",
       "1  https://gdata.youtube.com/feeds/api/users/lone...   \n",
       "2   https://gdata.youtube.com/feeds/api/users/lexlib   \n",
       "3  https://gdata.youtube.com/feeds/api/users/okan...   \n",
       "4  https://gdata.youtube.com/feeds/api/users/viny...   \n",
       "\n",
       "                                          video_desp  percentage_of_likes  \\\n",
       "0  Discovered completely by accident by putting t...            98.043390   \n",
       "1  So, I finally got a webcam and got it working ...            56.396504   \n",
       "2  We are only among many who went wild. Irina, M...            94.928826   \n",
       "3  生まれて9日目のくもくんです。 Thank you for watching this mo...            98.987361   \n",
       "4  This is a mesmerizing and frightening video. I...            88.815394   \n",
       "\n",
       "   views_million  \n",
       "0       1.313791  \n",
       "1       4.484903  \n",
       "2       3.556190  \n",
       "3       5.914475  \n",
       "4       0.590989  "
      ]
     },
     "execution_count": 9,
     "metadata": {},
     "output_type": "execute_result"
    }
   ],
   "source": [
    "df.head()"
   ]
  },
  {
   "cell_type": "code",
   "execution_count": 10,
   "metadata": {},
   "outputs": [
    {
     "name": "stdout",
     "output_type": "stream",
     "text": [
      "<class 'pandas.core.frame.DataFrame'>\n",
      "RangeIndex: 446 entries, 0 to 445\n",
      "Data columns (total 19 columns):\n",
      " #   Column               Non-Null Count  Dtype  \n",
      "---  ------               --------------  -----  \n",
      " 0   video_id             446 non-null    object \n",
      " 1   video_title          446 non-null    object \n",
      " 2   view_count           446 non-null    int64  \n",
      " 3   category             446 non-null    object \n",
      " 4   duration_in_seconds  446 non-null    int64  \n",
      " 5   upload_time          446 non-null    object \n",
      " 6   captured_time        446 non-null    object \n",
      " 7   avg_rate             446 non-null    float64\n",
      " 8   max_rate             446 non-null    float64\n",
      " 9   min_rate             446 non-null    float64\n",
      " 10  num_raters           446 non-null    int64  \n",
      " 11  num_dislikes         446 non-null    int64  \n",
      " 12  num_likes            446 non-null    int64  \n",
      " 13  uploader_id          446 non-null    object \n",
      " 14  uploader_name        446 non-null    object \n",
      " 15  uploader_url         446 non-null    object \n",
      " 16  video_desp           427 non-null    object \n",
      " 17  percentage_of_likes  446 non-null    float64\n",
      " 18  views_million        446 non-null    float64\n",
      "dtypes: float64(5), int64(5), object(9)\n",
      "memory usage: 66.3+ KB\n"
     ]
    }
   ],
   "source": [
    "df.info()"
   ]
  },
  {
   "cell_type": "markdown",
   "metadata": {},
   "source": [
    "## Scatterplot"
   ]
  },
  {
   "cell_type": "code",
   "execution_count": 16,
   "metadata": {},
   "outputs": [
    {
     "data": {
      "image/png": "[encoded data removed]",
      "text/plain": [
       "<Figure size 432x288 with 1 Axes>"
      ]
     },
     "metadata": {
      "needs_background": "light"
     },
     "output_type": "display_data"
    }
   ],
   "source": [
    "#matplotlib scatter plot\n",
    "\n",
    "x = df.duration_in_seconds\n",
    "y = df.views_million\n",
    "plt.scatter(x,y, c='green', alpha= 0.5)\n",
    "plt.xlabel('Duration (Seconds)')\n",
    "plt.ylabel('Views (Millions)')\n",
    "plt.title('Views over Duration')\n",
    "plt.tight_layout()"
   ]
  },
  {
   "cell_type": "markdown",
   "metadata": {},
   "source": [
    "## Boxplot"
   ]
  },
  {
   "cell_type": "code",
   "execution_count": 21,
   "metadata": {},
   "outputs": [
    {
     "data": {
      "text/plain": [
       "Text(0.5, 1.0, 'Duration In Seconds by Category')"
      ]
     },
     "execution_count": 21,
     "metadata": {},
     "output_type": "execute_result"
    },
    {
     "data": {
      "image/png": "[encoded data removed]",
      "text/plain": [
       "<Figure size 432x288 with 1 Axes>"
      ]
     },
     "metadata": {
      "needs_background": "light"
     },
     "output_type": "display_data"
    }
   ],
   "source": [
    "df.boxplot(column='duration_in_seconds', by='category', color=dict(boxes='b', whiskers='r', medians='y', caps='k'),\n",
    "             boxprops=dict(linestyle='-', linewidth=1.5),\n",
    "             flierprops=dict(linestyle='-', linewidth=1.5),\n",
    "             medianprops=dict(linestyle='-', linewidth=1.5),\n",
    "             whiskerprops=dict(linestyle='-', linewidth=1.5),\n",
    "             capprops=dict(linestyle='-', linewidth=1.5),\n",
    "             showfliers=True, grid=True,rot=90)\n",
    "plt.suptitle(\"\")\n",
    "plt.xlabel('Category')\n",
    "plt.ylabel('Duration (Seconds)')\n",
    "plt.title('Duration In Seconds by Category')"
   ]
  },
  {
   "cell_type": "code",
   "execution_count": null,
   "metadata": {},
   "outputs": [],
   "source": []
  }
 ],
 "metadata": {
  "kernelspec": {
   "display_name": "Python 3",
   "language": "python",
   "name": "python3"
  },
  "language_info": {
   "codemirror_mode": {
    "name": "ipython",
    "version": 3
   },
   "file_extension": ".py",
   "mimetype": "text/x-python",
   "name": "python",
   "nbconvert_exporter": "python",
   "pygments_lexer": "ipython3",
   "version": "3.8.3"
  }
 },
 "nbformat": 4,
 "nbformat_minor": 4
}
