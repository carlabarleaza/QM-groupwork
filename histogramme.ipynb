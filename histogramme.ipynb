{
  "nbformat": 4,
  "nbformat_minor": 0,
  "metadata": {
    "colab": {
      "name": "histogramme",
      "provenance": [],
      "collapsed_sections": [],
      "include_colab_link": true
    },
    "kernelspec": {
      "name": "python3",
      "display_name": "Python 3"
    }
  },
  "cells": [
    {
      "cell_type": "markdown",
      "metadata": {
        "id": "view-in-github",
        "colab_type": "text"
      },
      "source": [
        "<a href=\"https://colab.research.google.com/github/carlabarleaza/QM-groupwork/blob/main/histogramme.ipynb\" target=\"_parent\"><img src=\"https://colab.research.google.com/assets/colab-badge.svg\" alt=\"Open In Colab\"/></a>"
      ]
    },
    {
      "cell_type": "code",
      "metadata": {
        "id": "JZBBqIwAp7M0"
      },
      "source": [
        "import pandas as pd\n",
        "import pylab\n",
        "import matplotlib.pyplot as plt\n",
        "%matplotlib inline\n"
      ],
      "execution_count": 2,
      "outputs": []
    },
    {
      "cell_type": "code",
      "metadata": {
        "colab": {
          "base_uri": "https://localhost:8080/",
          "height": 581
        },
        "id": "jHYjlNDRqLv5",
        "outputId": "c2b70c26-9487-470b-a806-a15978c8e129"
      },
      "source": [
        "df = pd.read_csv('sample_data/viral_meta.csv')\n",
        "df.head()"
      ],
      "execution_count": 3,
      "outputs": [
        {
          "output_type": "execute_result",
          "data": {
            "text/html": [
              "<div>\n",
              "<style scoped>\n",
              "    .dataframe tbody tr th:only-of-type {\n",
              "        vertical-align: middle;\n",
              "    }\n",
              "\n",
              "    .dataframe tbody tr th {\n",
              "        vertical-align: top;\n",
              "    }\n",
              "\n",
              "    .dataframe thead th {\n",
              "        text-align: right;\n",
              "    }\n",
              "</style>\n",
              "<table border=\"1\" class=\"dataframe\">\n",
              "  <thead>\n",
              "    <tr style=\"text-align: right;\">\n",
              "      <th></th>\n",
              "      <th>video_id</th>\n",
              "      <th>video_title</th>\n",
              "      <th>view_count</th>\n",
              "      <th>category</th>\n",
              "      <th>duration_in_seconds</th>\n",
              "      <th>upload_time</th>\n",
              "      <th>captured_time</th>\n",
              "      <th>avg_rate</th>\n",
              "      <th>max_rate</th>\n",
              "      <th>min_rate</th>\n",
              "      <th>num_raters</th>\n",
              "      <th>num_dislikes</th>\n",
              "      <th>num_likes</th>\n",
              "      <th>uploader_id</th>\n",
              "      <th>uploader_name</th>\n",
              "      <th>uploader_url</th>\n",
              "      <th>video_desp</th>\n",
              "    </tr>\n",
              "  </thead>\n",
              "  <tbody>\n",
              "    <tr>\n",
              "      <th>0</th>\n",
              "      <td>-_49VS4nuao</td>\n",
              "      <td>Elmo and Cookie Monster have some Adult Fun</td>\n",
              "      <td>1313791</td>\n",
              "      <td>Comedy</td>\n",
              "      <td>42</td>\n",
              "      <td>2008-12-28T21:57:55.000Z</td>\n",
              "      <td>01/18/13</td>\n",
              "      <td>4.921736</td>\n",
              "      <td>5.0</td>\n",
              "      <td>1.0</td>\n",
              "      <td>9864</td>\n",
              "      <td>193</td>\n",
              "      <td>9671</td>\n",
              "      <td>ZcSyg9WKALBO4r97-pjmAg</td>\n",
              "      <td>Dan Wilson</td>\n",
              "      <td>https://gdata.youtube.com/feeds/api/users/dani...</td>\n",
              "      <td>Discovered completely by accident by putting t...</td>\n",
              "    </tr>\n",
              "    <tr>\n",
              "      <th>1</th>\n",
              "      <td>-goXKtd6cPo</td>\n",
              "      <td>First Blog / Dorkiness Prevails</td>\n",
              "      <td>4484903</td>\n",
              "      <td>Film</td>\n",
              "      <td>95</td>\n",
              "      <td>2006-06-16T18:49:21.000Z</td>\n",
              "      <td>01/18/13</td>\n",
              "      <td>3.255860</td>\n",
              "      <td>5.0</td>\n",
              "      <td>1.0</td>\n",
              "      <td>10068</td>\n",
              "      <td>4390</td>\n",
              "      <td>5678</td>\n",
              "      <td>VEfyEuLJpgw_y4jSgV8Rtg</td>\n",
              "      <td>lonelygirl15</td>\n",
              "      <td>https://gdata.youtube.com/feeds/api/users/lone...</td>\n",
              "      <td>So, I finally got a webcam and got it working ...</td>\n",
              "    </tr>\n",
              "    <tr>\n",
              "      <th>2</th>\n",
              "      <td>-HePTmrV-og</td>\n",
              "      <td>We Love You Maria Venus Raj 22 Philippines</td>\n",
              "      <td>3556190</td>\n",
              "      <td>Entertainment</td>\n",
              "      <td>253</td>\n",
              "      <td>2010-08-24T08:27:12.000Z</td>\n",
              "      <td>01/18/13</td>\n",
              "      <td>4.797153</td>\n",
              "      <td>5.0</td>\n",
              "      <td>1.0</td>\n",
              "      <td>16860</td>\n",
              "      <td>855</td>\n",
              "      <td>16005</td>\n",
              "      <td>u1TBcXNK29GvIwud6rVJQw</td>\n",
              "      <td>lexlib</td>\n",
              "      <td>https://gdata.youtube.com/feeds/api/users/lexlib</td>\n",
              "      <td>We are only among many who went wild. Irina, M...</td>\n",
              "    </tr>\n",
              "    <tr>\n",
              "      <th>3</th>\n",
              "      <td>-kIJqXLMLwc</td>\n",
              "      <td>shiba inu white pupy 【超可愛い】【初公開】白柴くもくんの鳴き声</td>\n",
              "      <td>5914475</td>\n",
              "      <td>Animals</td>\n",
              "      <td>49</td>\n",
              "      <td>2009-09-19T05:53:24.000Z</td>\n",
              "      <td>01/18/13</td>\n",
              "      <td>4.959495</td>\n",
              "      <td>5.0</td>\n",
              "      <td>1.0</td>\n",
              "      <td>39007</td>\n",
              "      <td>395</td>\n",
              "      <td>38612</td>\n",
              "      <td>RL7_KwtbtYqACtAaWXA6Tw</td>\n",
              "      <td>okanouefamily</td>\n",
              "      <td>https://gdata.youtube.com/feeds/api/users/okan...</td>\n",
              "      <td>生まれて9日目のくもくんです。 Thank you for watching this mo...</td>\n",
              "    </tr>\n",
              "    <tr>\n",
              "      <th>4</th>\n",
              "      <td>-UaW6zYQDQE</td>\n",
              "      <td>Mariko Takahashi's Fitness Video</td>\n",
              "      <td>590989</td>\n",
              "      <td>Howto</td>\n",
              "      <td>210</td>\n",
              "      <td>2006-03-16T05:43:31.000Z</td>\n",
              "      <td>01/18/13</td>\n",
              "      <td>4.552616</td>\n",
              "      <td>5.0</td>\n",
              "      <td>1.0</td>\n",
              "      <td>1663</td>\n",
              "      <td>186</td>\n",
              "      <td>1477</td>\n",
              "      <td>ajte6UFGsKtxCvNabt26RQ</td>\n",
              "      <td>vinylboy20</td>\n",
              "      <td>https://gdata.youtube.com/feeds/api/users/viny...</td>\n",
              "      <td>This is a mesmerizing and frightening video. I...</td>\n",
              "    </tr>\n",
              "  </tbody>\n",
              "</table>\n",
              "</div>"
            ],
            "text/plain": [
              "      video_id  ...                                         video_desp\n",
              "0  -_49VS4nuao  ...  Discovered completely by accident by putting t...\n",
              "1  -goXKtd6cPo  ...  So, I finally got a webcam and got it working ...\n",
              "2  -HePTmrV-og  ...  We are only among many who went wild. Irina, M...\n",
              "3  -kIJqXLMLwc  ...  生まれて9日目のくもくんです。 Thank you for watching this mo...\n",
              "4  -UaW6zYQDQE  ...  This is a mesmerizing and frightening video. I...\n",
              "\n",
              "[5 rows x 17 columns]"
            ]
          },
          "metadata": {
            "tags": []
          },
          "execution_count": 3
        }
      ]
    },
    {
      "cell_type": "code",
      "metadata": {
        "colab": {
          "base_uri": "https://localhost:8080/"
        },
        "id": "kl8JJY53qkut",
        "outputId": "f2fb612a-0884-4738-f3fe-0aea9e762021"
      },
      "source": [
        "df['view_count'].head()"
      ],
      "execution_count": 4,
      "outputs": [
        {
          "output_type": "execute_result",
          "data": {
            "text/plain": [
              "0    1313791\n",
              "1    4484903\n",
              "2    3556190\n",
              "3    5914475\n",
              "4     590989\n",
              "Name: view_count, dtype: int64"
            ]
          },
          "metadata": {
            "tags": []
          },
          "execution_count": 4
        }
      ]
    },
    {
      "cell_type": "code",
      "metadata": {
        "colab": {
          "base_uri": "https://localhost:8080/"
        },
        "id": "TtCNsy2truOk",
        "outputId": "40f3ad77-2893-4fdf-b96e-49e97b7253ca"
      },
      "source": [
        "df['category'].head()\n"
      ],
      "execution_count": 5,
      "outputs": [
        {
          "output_type": "execute_result",
          "data": {
            "text/plain": [
              "0           Comedy\n",
              "1             Film\n",
              "2    Entertainment\n",
              "3          Animals\n",
              "4            Howto\n",
              "Name: category, dtype: object"
            ]
          },
          "metadata": {
            "tags": []
          },
          "execution_count": 5
        }
      ]
    },
    {
      "cell_type": "code",
      "metadata": {
        "id": "MeYvsFeys3AR"
      },
      "source": [
        "df.columns = ['video_id', 'video_title', 'view_count', 'category', 'duration_in_seconds', 'upload_time', 'captured_time', 'avg_rate', 'max_rate', 'min_rate', 'num_raters', 'num_dislikes', 'num_likes', 'uploader_id', 'uploader_name', 'uploader_url', 'video_desp']\n"
      ],
      "execution_count": 6,
      "outputs": []
    },
    {
      "cell_type": "code",
      "metadata": {
        "colab": {
          "base_uri": "https://localhost:8080/",
          "height": 204
        },
        "id": "VQW3c5rPvCSf",
        "outputId": "668f48ad-e20c-48c1-a30d-01deb443ca87"
      },
      "source": [
        "df2 = df[['view_count','category']]\n",
        "df2.head()"
      ],
      "execution_count": 7,
      "outputs": [
        {
          "output_type": "execute_result",
          "data": {
            "text/html": [
              "<div>\n",
              "<style scoped>\n",
              "    .dataframe tbody tr th:only-of-type {\n",
              "        vertical-align: middle;\n",
              "    }\n",
              "\n",
              "    .dataframe tbody tr th {\n",
              "        vertical-align: top;\n",
              "    }\n",
              "\n",
              "    .dataframe thead th {\n",
              "        text-align: right;\n",
              "    }\n",
              "</style>\n",
              "<table border=\"1\" class=\"dataframe\">\n",
              "  <thead>\n",
              "    <tr style=\"text-align: right;\">\n",
              "      <th></th>\n",
              "      <th>view_count</th>\n",
              "      <th>category</th>\n",
              "    </tr>\n",
              "  </thead>\n",
              "  <tbody>\n",
              "    <tr>\n",
              "      <th>0</th>\n",
              "      <td>1313791</td>\n",
              "      <td>Comedy</td>\n",
              "    </tr>\n",
              "    <tr>\n",
              "      <th>1</th>\n",
              "      <td>4484903</td>\n",
              "      <td>Film</td>\n",
              "    </tr>\n",
              "    <tr>\n",
              "      <th>2</th>\n",
              "      <td>3556190</td>\n",
              "      <td>Entertainment</td>\n",
              "    </tr>\n",
              "    <tr>\n",
              "      <th>3</th>\n",
              "      <td>5914475</td>\n",
              "      <td>Animals</td>\n",
              "    </tr>\n",
              "    <tr>\n",
              "      <th>4</th>\n",
              "      <td>590989</td>\n",
              "      <td>Howto</td>\n",
              "    </tr>\n",
              "  </tbody>\n",
              "</table>\n",
              "</div>"
            ],
            "text/plain": [
              "   view_count       category\n",
              "0     1313791         Comedy\n",
              "1     4484903           Film\n",
              "2     3556190  Entertainment\n",
              "3     5914475        Animals\n",
              "4      590989          Howto"
            ]
          },
          "metadata": {
            "tags": []
          },
          "execution_count": 7
        }
      ]
    },
    {
      "cell_type": "code",
      "metadata": {
        "colab": {
          "base_uri": "https://localhost:8080/",
          "height": 352
        },
        "id": "O8MzWEAI3AoG",
        "outputId": "4949739d-52ce-4f1d-8bac-db669a436d67"
      },
      "source": [
        "df2['category'].hist()\n",
        "\n",
        "plt.style.use('seaborn')\n",
        "plt.xticks(rotation = 90)\n",
        "plt.yticks(rotation = 90)\n"
      ],
      "execution_count": 8,
      "outputs": [
        {
          "output_type": "execute_result",
          "data": {
            "text/plain": [
              "(array([  0.,  20.,  40.,  60.,  80., 100., 120., 140., 160.]),\n",
              " <a list of 9 Text major ticklabel objects>)"
            ]
          },
          "metadata": {
            "tags": []
          },
          "execution_count": 8
        },
        {
          "output_type": "display_data",
          "data": {
            "image/png": "[encoded data removed]",
            "text/plain": [
              "<Figure size 432x288 with 1 Axes>"
            ]
          },
          "metadata": {
            "tags": [],
            "needs_background": "light"
          }
        }
      ]
    },
    {
      "cell_type": "code",
      "metadata": {
        "colab": {
          "base_uri": "https://localhost:8080/",
          "height": 445
        },
        "id": "S2Tj0dAB3TzN",
        "outputId": "cf3d5a31-edad-48c4-c9ef-07a83818f194"
      },
      "source": [
        "video_filter = df2.loc[:, 'view_count'] >= 1000000\n",
        "df2.loc[video_filter, 'category'].hist(bins = 20)\n",
        "plt.style.use('seaborn')\n",
        "plt.xticks(rotation = 90)\n",
        "plt.yticks(rotation = 90)\n",
        "plt.xlabel('categories')\n",
        "plt.ylabel('view_count')\n",
        "plt.title('Correlation between video categories and number of views')\n"
      ],
      "execution_count": 9,
      "outputs": [
        {
          "output_type": "execute_result",
          "data": {
            "text/plain": [
              "Text(0.5, 1.0, 'Correlation between video categories and number of views')"
            ]
          },
          "metadata": {
            "tags": []
          },
          "execution_count": 9
        },
        {
          "output_type": "display_data",
          "data": {
            "image/png": "[encoded data removed]",
            "text/plain": [
              "<Figure size 576x396 with 1 Axes>"
            ]
          },
          "metadata": {
            "tags": []
          }
        }
      ]
    },
    {
      "cell_type": "code",
      "metadata": {
        "id": "3S-M1cpecqXP"
      },
      "source": [
        ""
      ],
      "execution_count": null,
      "outputs": []
    },
    {
      "cell_type": "code",
      "metadata": {
        "colab": {
          "base_uri": "https://localhost:8080/",
          "height": 204
        },
        "id": "iLn4SeyKcN23",
        "outputId": "d8e90284-1e40-41d1-e346-e72fb09335d6"
      },
      "source": [
        "df3 = df[['view_count','num_likes']]\n",
        "df3.head()"
      ],
      "execution_count": 11,
      "outputs": [
        {
          "output_type": "execute_result",
          "data": {
            "text/html": [
              "<div>\n",
              "<style scoped>\n",
              "    .dataframe tbody tr th:only-of-type {\n",
              "        vertical-align: middle;\n",
              "    }\n",
              "\n",
              "    .dataframe tbody tr th {\n",
              "        vertical-align: top;\n",
              "    }\n",
              "\n",
              "    .dataframe thead th {\n",
              "        text-align: right;\n",
              "    }\n",
              "</style>\n",
              "<table border=\"1\" class=\"dataframe\">\n",
              "  <thead>\n",
              "    <tr style=\"text-align: right;\">\n",
              "      <th></th>\n",
              "      <th>view_count</th>\n",
              "      <th>num_likes</th>\n",
              "    </tr>\n",
              "  </thead>\n",
              "  <tbody>\n",
              "    <tr>\n",
              "      <th>0</th>\n",
              "      <td>1313791</td>\n",
              "      <td>9671</td>\n",
              "    </tr>\n",
              "    <tr>\n",
              "      <th>1</th>\n",
              "      <td>4484903</td>\n",
              "      <td>5678</td>\n",
              "    </tr>\n",
              "    <tr>\n",
              "      <th>2</th>\n",
              "      <td>3556190</td>\n",
              "      <td>16005</td>\n",
              "    </tr>\n",
              "    <tr>\n",
              "      <th>3</th>\n",
              "      <td>5914475</td>\n",
              "      <td>38612</td>\n",
              "    </tr>\n",
              "    <tr>\n",
              "      <th>4</th>\n",
              "      <td>590989</td>\n",
              "      <td>1477</td>\n",
              "    </tr>\n",
              "  </tbody>\n",
              "</table>\n",
              "</div>"
            ],
            "text/plain": [
              "   view_count  num_likes\n",
              "0     1313791       9671\n",
              "1     4484903       5678\n",
              "2     3556190      16005\n",
              "3     5914475      38612\n",
              "4      590989       1477"
            ]
          },
          "metadata": {
            "tags": []
          },
          "execution_count": 11
        }
      ]
    },
    {
      "cell_type": "code",
      "metadata": {
        "colab": {
          "base_uri": "https://localhost:8080/",
          "height": 390
        },
        "id": "rSmurSy6cYJ4",
        "outputId": "74ceecb8-ee49-44d5-d4c3-76ede75b4d54"
      },
      "source": [
        "df3['num_likes'].hist()\n",
        "\n",
        "plt.style.use('seaborn')\n",
        "plt.xticks(rotation = 90)\n",
        "plt.yticks(rotation = 90)"
      ],
      "execution_count": 19,
      "outputs": [
        {
          "output_type": "execute_result",
          "data": {
            "text/plain": [
              "(array([  0., 100., 200., 300., 400., 500.]),\n",
              " <a list of 6 Text major ticklabel objects>)"
            ]
          },
          "metadata": {
            "tags": []
          },
          "execution_count": 19
        },
        {
          "output_type": "display_data",
          "data": {
            "image/png": "[encoded data removed]",
            "text/plain": [
              "<Figure size 576x396 with 1 Axes>"
            ]
          },
          "metadata": {
            "tags": []
          }
        }
      ]
    },
    {
      "cell_type": "code",
      "metadata": {
        "colab": {
          "base_uri": "https://localhost:8080/",
          "height": 389
        },
        "id": "BC0EQWlidZ_O",
        "outputId": "c4cc4d19-408e-4635-bf41-215ea2fe9ff9"
      },
      "source": [
        "likes_filter = df3.loc[:, 'view_count'] >= 1000000\n",
        "df3.loc[likes_filter, 'num_likes'].hist(bins = 4)\n",
        "plt.style.use('seaborn')\n",
        "plt.xticks(rotation = 90)\n",
        "plt.yticks(rotation = 90)\n",
        "plt.xlabel('num_likes')\n",
        "plt.ylabel('view_count')\n",
        "plt.title('Correlation between number of likes and number of views')\n"
      ],
      "execution_count": 26,
      "outputs": [
        {
          "output_type": "execute_result",
          "data": {
            "text/plain": [
              "Text(0.5, 1.0, 'Correlation between number of likes and number of views')"
            ]
          },
          "metadata": {
            "tags": []
          },
          "execution_count": 26
        },
        {
          "output_type": "display_data",
          "data": {
            "image/png": "[encoded data removed]",
            "text/plain": [
              "<Figure size 576x396 with 1 Axes>"
            ]
          },
          "metadata": {
            "tags": []
          }
        }
      ]
    },
    {
      "cell_type": "code",
      "metadata": {
        "colab": {
          "base_uri": "https://localhost:8080/",
          "height": 397
        },
        "id": "AzoOUB7peRTc",
        "outputId": "0dca1e96-6067-4a9e-f4b3-8cb13a89e4a6"
      },
      "source": [
        "likes_filter = df3.loc[:, 'num_likes'] >= 4000\n",
        "df3.loc[likes_filter, 'view_count'].hist(bins = 8)\n",
        "plt.style.use('seaborn')\n",
        "plt.xticks(rotation = 90)\n",
        "plt.yticks(rotation = 90)\n",
        "plt.xlabel('view_count')\n",
        "plt.ylabel('num_likes')\n",
        "plt.title('Correlation between number of views and number of likes')"
      ],
      "execution_count": 35,
      "outputs": [
        {
          "output_type": "execute_result",
          "data": {
            "text/plain": [
              "Text(0.5, 1.0, 'Correlation between number of views and number of likes')"
            ]
          },
          "metadata": {
            "tags": []
          },
          "execution_count": 35
        },
        {
          "output_type": "display_data",
          "data": {
            "image/png": "[encoded data removed]",
            "text/plain": [
              "<Figure size 576x396 with 1 Axes>"
            ]
          },
          "metadata": {
            "tags": []
          }
        }
      ]
    },
    {
      "cell_type": "code",
      "metadata": {
        "colab": {
          "base_uri": "https://localhost:8080/",
          "height": 204
        },
        "id": "3RcitBxUgoBa",
        "outputId": "15b9d7ba-2e6a-4729-b2e7-63689b79c6e7"
      },
      "source": [
        "df5 = df[['view_count','num_dislikes']]\n",
        "df5.head()"
      ],
      "execution_count": 36,
      "outputs": [
        {
          "output_type": "execute_result",
          "data": {
            "text/html": [
              "<div>\n",
              "<style scoped>\n",
              "    .dataframe tbody tr th:only-of-type {\n",
              "        vertical-align: middle;\n",
              "    }\n",
              "\n",
              "    .dataframe tbody tr th {\n",
              "        vertical-align: top;\n",
              "    }\n",
              "\n",
              "    .dataframe thead th {\n",
              "        text-align: right;\n",
              "    }\n",
              "</style>\n",
              "<table border=\"1\" class=\"dataframe\">\n",
              "  <thead>\n",
              "    <tr style=\"text-align: right;\">\n",
              "      <th></th>\n",
              "      <th>view_count</th>\n",
              "      <th>num_dislikes</th>\n",
              "    </tr>\n",
              "  </thead>\n",
              "  <tbody>\n",
              "    <tr>\n",
              "      <th>0</th>\n",
              "      <td>1313791</td>\n",
              "      <td>193</td>\n",
              "    </tr>\n",
              "    <tr>\n",
              "      <th>1</th>\n",
              "      <td>4484903</td>\n",
              "      <td>4390</td>\n",
              "    </tr>\n",
              "    <tr>\n",
              "      <th>2</th>\n",
              "      <td>3556190</td>\n",
              "      <td>855</td>\n",
              "    </tr>\n",
              "    <tr>\n",
              "      <th>3</th>\n",
              "      <td>5914475</td>\n",
              "      <td>395</td>\n",
              "    </tr>\n",
              "    <tr>\n",
              "      <th>4</th>\n",
              "      <td>590989</td>\n",
              "      <td>186</td>\n",
              "    </tr>\n",
              "  </tbody>\n",
              "</table>\n",
              "</div>"
            ],
            "text/plain": [
              "   view_count  num_dislikes\n",
              "0     1313791           193\n",
              "1     4484903          4390\n",
              "2     3556190           855\n",
              "3     5914475           395\n",
              "4      590989           186"
            ]
          },
          "metadata": {
            "tags": []
          },
          "execution_count": 36
        }
      ]
    },
    {
      "cell_type": "code",
      "metadata": {
        "colab": {
          "base_uri": "https://localhost:8080/",
          "height": 397
        },
        "id": "7L6J2ewrgsBW",
        "outputId": "9ae8e51a-ca71-42fe-f938-f43f59591de9"
      },
      "source": [
        "df3['num_likes'].hist()\n",
        "\n",
        "plt.style.use('seaborn')\n",
        "plt.xticks(rotation = 90)\n",
        "plt.yticks(rotation = 90)\n",
        "dislikes_filter = df5.loc[:, 'num_dislikes'] >= 100\n",
        "df5.loc[dislikes_filter, 'view_count'].hist(bins = 4)\n",
        "plt.xlabel('num_dislikes')\n",
        "plt.ylabel('view_count')\n",
        "plt.title('Correlation between number of dislikes and number of views')"
      ],
      "execution_count": 42,
      "outputs": [
        {
          "output_type": "execute_result",
          "data": {
            "text/plain": [
              "Text(0.5, 1.0, 'Correlation between number of dislikes and number of views')"
            ]
          },
          "metadata": {
            "tags": []
          },
          "execution_count": 42
        },
        {
          "output_type": "display_data",
          "data": {
            "image/png": "[encoded data removed]",
            "text/plain": [
              "<Figure size 576x396 with 1 Axes>"
            ]
          },
          "metadata": {
            "tags": []
          }
        }
      ]
    },
    {
      "cell_type": "code",
      "metadata": {
        "id": "UjgtXf9Sygv6"
      },
      "source": [
        ""
      ],
      "execution_count": null,
      "outputs": []
    }
  ]
}