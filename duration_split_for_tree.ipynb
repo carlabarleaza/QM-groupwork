{
 "cells": [
  {
   "cell_type": "code",
   "execution_count": 3,
   "metadata": {},
   "outputs": [],
   "source": [
    "import numpy as np\n",
    "import pandas as pd\n",
    "import matplotlib.pyplot as plt\n",
    "import seaborn as sns"
   ]
  },
  {
   "cell_type": "code",
   "execution_count": 4,
   "metadata": {},
   "outputs": [],
   "source": [
    "file_path = \"./viral_meta.csv\""
   ]
  },
  {
   "cell_type": "code",
   "execution_count": 6,
   "metadata": {},
   "outputs": [],
   "source": [
    "df = pd.read_csv(file_path)"
   ]
  },
  {
   "cell_type": "code",
   "execution_count": 7,
   "metadata": {},
   "outputs": [
    {
     "name": "stdout",
     "output_type": "stream",
     "text": [
      "<class 'pandas.core.frame.DataFrame'>\n",
      "RangeIndex: 446 entries, 0 to 445\n",
      "Data columns (total 18 columns):\n",
      " #   Column                Non-Null Count  Dtype  \n",
      "---  ------                --------------  -----  \n",
      " 0   video_id              446 non-null    object \n",
      " 1   video_title           446 non-null    object \n",
      " 2   view_count            446 non-null    int64  \n",
      " 3   category              446 non-null    object \n",
      " 4   duration_in_seconds   446 non-null    int64  \n",
      " 5   upload_time           446 non-null    object \n",
      " 6   captured_time         446 non-null    object \n",
      " 7   avg_rate              446 non-null    float64\n",
      " 8   max_rate              446 non-null    int64  \n",
      " 9   min_rate              446 non-null    int64  \n",
      " 10  num_raters            446 non-null    int64  \n",
      " 11  num_dislikes          446 non-null    int64  \n",
      " 12  num_likes             446 non-null    int64  \n",
      " 13  uploader_id           446 non-null    object \n",
      " 14  uploader_name         446 non-null    object \n",
      " 15  uploader_url          446 non-null    object \n",
      " 16  video_desp            427 non-null    object \n",
      " 17  Percentage_of_likes   446 non-null    float64\n",
      "dtypes: float64(2), int64(7), object(9)\n",
      "memory usage: 62.8+ KB\n"
     ]
    }
   ],
   "source": [
    "df.info()"
   ]
  },
  {
   "cell_type": "code",
   "execution_count": 8,
   "metadata": {},
   "outputs": [
    {
     "name": "stdout",
     "output_type": "stream",
     "text": [
      "0       42\n",
      "1       95\n",
      "2      253\n",
      "3       49\n",
      "4      210\n",
      "      ... \n",
      "441     53\n",
      "442     79\n",
      "443     33\n",
      "444    349\n",
      "445     46\n",
      "Name: duration_in_seconds, Length: 446, dtype: int64\n"
     ]
    }
   ],
   "source": [
    "print(df[\"duration_in_seconds\"])"
   ]
  },
  {
   "cell_type": "code",
   "execution_count": 12,
   "metadata": {},
   "outputs": [
    {
     "name": "stdout",
     "output_type": "stream",
     "text": [
      "4587\n",
      "3\n"
     ]
    }
   ],
   "source": [
    "duration = df[\"duration_in_seconds\"]\n",
    "print(max(duration))\n",
    "print(min(duration))"
   ]
  },
  {
   "cell_type": "code",
   "execution_count": 46,
   "metadata": {},
   "outputs": [
    {
     "data": {
      "text/plain": [
       "446"
      ]
     },
     "execution_count": 46,
     "metadata": {},
     "output_type": "execute_result"
    }
   ],
   "source": [
    "len(duration)"
   ]
  },
  {
   "cell_type": "code",
   "execution_count": 48,
   "metadata": {},
   "outputs": [],
   "source": [
    "first_sixth = []\n",
    "second_sixth = []\n",
    "third_sixth = []\n",
    "fourth_sixth = []\n",
    "fifth_sixth = []\n",
    "sixth_sixth = []\n",
    "duration_min = [x/60 for x in duration]\n",
    "for value in duration_min:\n",
    "    if value >= 0 and value < 2:\n",
    "        first_sixth.append(value)\n",
    "    elif value >= 2 and value < 5:\n",
    "        second_sixth.append(value)\n",
    "    elif value >= 5 and value < 10:\n",
    "        third_sixth.append(value)\n",
    "    elif value >= 10 and value < 30:\n",
    "        fourth_sixth.append(value)\n",
    "    elif value >= 30 and value < 60:\n",
    "        fifth_sixth.append(value)\n",
    "    elif value >= 60 and value <= (4587/60):\n",
    "        sixth_sixth.append(value)\n",
    "        "
   ]
  },
  {
   "cell_type": "code",
   "execution_count": 49,
   "metadata": {},
   "outputs": [
    {
     "name": "stdout",
     "output_type": "stream",
     "text": [
      "290\n",
      "121\n",
      "24\n",
      "10\n",
      "0\n",
      "1\n"
     ]
    }
   ],
   "source": [
    "print(len(first_sixth))\n",
    "print(len(second_sixth))\n",
    "print(len(third_sixth))\n",
    "print(len(fourth_sixth))\n",
    "print(len(fifth_sixth))\n",
    "print(len(sixth_sixth))\n"
   ]
  },
  {
   "cell_type": "code",
   "execution_count": null,
   "metadata": {},
   "outputs": [],
   "source": []
  }
 ],
 "metadata": {
  "kernelspec": {
   "display_name": "Python 3",
   "language": "python",
   "name": "python3"
  },
  "language_info": {
   "codemirror_mode": {
    "name": "ipython",
    "version": 3
   },
   "file_extension": ".py",
   "mimetype": "text/x-python",
   "name": "python",
   "nbconvert_exporter": "python",
   "pygments_lexer": "ipython3",
   "version": "3.8.5"
  }
 },
 "nbformat": 4,
 "nbformat_minor": 4
}
