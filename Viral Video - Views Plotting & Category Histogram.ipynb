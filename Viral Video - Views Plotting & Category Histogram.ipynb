{
 "cells": [
  {
   "cell_type": "markdown",
   "metadata": {},
   "source": [
    "## Import libraries & loading the file"
   ]
  },
  {
   "cell_type": "code",
   "execution_count": 17,
   "metadata": {},
   "outputs": [],
   "source": [
    "# Importing libraries\n",
    "%matplotlib inline\n",
    "\n",
    "import pandas as pd\n",
    "import numpy as np\n",
    "import matplotlib.pyplot as plt\n",
    "import seaborn as sns"
   ]
  },
  {
   "cell_type": "code",
   "execution_count": 18,
   "metadata": {},
   "outputs": [],
   "source": [
    "#loading the file\n",
    "filename = 'Group_11_dataframe.xls'\n",
    "df = pd.read_excel(filename)"
   ]
  },
  {
   "cell_type": "markdown",
   "metadata": {},
   "source": [
    "## Looking at our data"
   ]
  },
  {
   "cell_type": "code",
   "execution_count": 19,
   "metadata": {},
   "outputs": [
    {
     "data": {
      "text/html": [
       "<div>\n",
       "<style scoped>\n",
       "    .dataframe tbody tr th:only-of-type {\n",
       "        vertical-align: middle;\n",
       "    }\n",
       "\n",
       "    .dataframe tbody tr th {\n",
       "        vertical-align: top;\n",
       "    }\n",
       "\n",
       "    .dataframe thead th {\n",
       "        text-align: right;\n",
       "    }\n",
       "</style>\n",
       "<table border=\"1\" class=\"dataframe\">\n",
       "  <thead>\n",
       "    <tr style=\"text-align: right;\">\n",
       "      <th></th>\n",
       "      <th>video_title</th>\n",
       "      <th>view_count</th>\n",
       "      <th>category</th>\n",
       "      <th>duration_in_seconds</th>\n",
       "      <th>upload_time</th>\n",
       "      <th>captured_time</th>\n",
       "      <th>num_dislikes</th>\n",
       "      <th>num_likes</th>\n",
       "      <th>video_desp</th>\n",
       "      <th>ratio</th>\n",
       "      <th>new_view_count</th>\n",
       "    </tr>\n",
       "  </thead>\n",
       "  <tbody>\n",
       "    <tr>\n",
       "      <th>0</th>\n",
       "      <td>Elmo and Cookie Monster have some Adult Fun</td>\n",
       "      <td>1313791</td>\n",
       "      <td>Comedy</td>\n",
       "      <td>42</td>\n",
       "      <td>2008-12-28T21:57:55.000Z</td>\n",
       "      <td>01/18/13</td>\n",
       "      <td>193</td>\n",
       "      <td>9671</td>\n",
       "      <td>Discovered completely by accident by putting t...</td>\n",
       "      <td>0.980434</td>\n",
       "      <td>1.313791</td>\n",
       "    </tr>\n",
       "    <tr>\n",
       "      <th>1</th>\n",
       "      <td>First Blog / Dorkiness Prevails</td>\n",
       "      <td>4484903</td>\n",
       "      <td>Film</td>\n",
       "      <td>95</td>\n",
       "      <td>2006-06-16T18:49:21.000Z</td>\n",
       "      <td>01/18/13</td>\n",
       "      <td>4390</td>\n",
       "      <td>5678</td>\n",
       "      <td>So, I finally got a webcam and got it working ...</td>\n",
       "      <td>0.563965</td>\n",
       "      <td>4.484903</td>\n",
       "    </tr>\n",
       "    <tr>\n",
       "      <th>2</th>\n",
       "      <td>We Love You Maria Venus Raj 22 Philippines</td>\n",
       "      <td>3556190</td>\n",
       "      <td>Entertainment</td>\n",
       "      <td>253</td>\n",
       "      <td>2010-08-24T08:27:12.000Z</td>\n",
       "      <td>01/18/13</td>\n",
       "      <td>855</td>\n",
       "      <td>16005</td>\n",
       "      <td>We are only among many who went wild. Irina, M...</td>\n",
       "      <td>0.949288</td>\n",
       "      <td>3.556190</td>\n",
       "    </tr>\n",
       "    <tr>\n",
       "      <th>3</th>\n",
       "      <td>shiba inu white pupy 【超可愛い】【初公開】白柴くもくんの鳴き声</td>\n",
       "      <td>5914475</td>\n",
       "      <td>Animals</td>\n",
       "      <td>49</td>\n",
       "      <td>2009-09-19T05:53:24.000Z</td>\n",
       "      <td>01/18/13</td>\n",
       "      <td>395</td>\n",
       "      <td>38612</td>\n",
       "      <td>生まれて9日目のくもくんです。 Thank you for watching this mo...</td>\n",
       "      <td>0.989874</td>\n",
       "      <td>5.914475</td>\n",
       "    </tr>\n",
       "    <tr>\n",
       "      <th>4</th>\n",
       "      <td>Mariko Takahashi's Fitness Video</td>\n",
       "      <td>590989</td>\n",
       "      <td>Howto</td>\n",
       "      <td>210</td>\n",
       "      <td>2006-03-16T05:43:31.000Z</td>\n",
       "      <td>01/18/13</td>\n",
       "      <td>186</td>\n",
       "      <td>1477</td>\n",
       "      <td>This is a mesmerizing and frightening video. I...</td>\n",
       "      <td>0.888154</td>\n",
       "      <td>0.590989</td>\n",
       "    </tr>\n",
       "  </tbody>\n",
       "</table>\n",
       "</div>"
      ],
      "text/plain": [
       "                                   video_title  view_count       category  \\\n",
       "0  Elmo and Cookie Monster have some Adult Fun     1313791         Comedy   \n",
       "1              First Blog / Dorkiness Prevails     4484903           Film   \n",
       "2   We Love You Maria Venus Raj 22 Philippines     3556190  Entertainment   \n",
       "3   shiba inu white pupy 【超可愛い】【初公開】白柴くもくんの鳴き声     5914475        Animals   \n",
       "4             Mariko Takahashi's Fitness Video      590989          Howto   \n",
       "\n",
       "   duration_in_seconds               upload_time captured_time  num_dislikes  \\\n",
       "0                   42  2008-12-28T21:57:55.000Z      01/18/13           193   \n",
       "1                   95  2006-06-16T18:49:21.000Z      01/18/13          4390   \n",
       "2                  253  2010-08-24T08:27:12.000Z      01/18/13           855   \n",
       "3                   49  2009-09-19T05:53:24.000Z      01/18/13           395   \n",
       "4                  210  2006-03-16T05:43:31.000Z      01/18/13           186   \n",
       "\n",
       "   num_likes                                         video_desp     ratio  \\\n",
       "0       9671  Discovered completely by accident by putting t...  0.980434   \n",
       "1       5678  So, I finally got a webcam and got it working ...  0.563965   \n",
       "2      16005  We are only among many who went wild. Irina, M...  0.949288   \n",
       "3      38612  生まれて9日目のくもくんです。 Thank you for watching this mo...  0.989874   \n",
       "4       1477  This is a mesmerizing and frightening video. I...  0.888154   \n",
       "\n",
       "   new_view_count  \n",
       "0        1.313791  \n",
       "1        4.484903  \n",
       "2        3.556190  \n",
       "3        5.914475  \n",
       "4        0.590989  "
      ]
     },
     "execution_count": 19,
     "metadata": {},
     "output_type": "execute_result"
    }
   ],
   "source": [
    "df.head()"
   ]
  },
  {
   "cell_type": "code",
   "execution_count": 20,
   "metadata": {},
   "outputs": [
    {
     "data": {
      "text/html": [
       "<div>\n",
       "<style scoped>\n",
       "    .dataframe tbody tr th:only-of-type {\n",
       "        vertical-align: middle;\n",
       "    }\n",
       "\n",
       "    .dataframe tbody tr th {\n",
       "        vertical-align: top;\n",
       "    }\n",
       "\n",
       "    .dataframe thead th {\n",
       "        text-align: right;\n",
       "    }\n",
       "</style>\n",
       "<table border=\"1\" class=\"dataframe\">\n",
       "  <thead>\n",
       "    <tr style=\"text-align: right;\">\n",
       "      <th></th>\n",
       "      <th>video_title</th>\n",
       "      <th>view_count</th>\n",
       "      <th>category</th>\n",
       "      <th>duration_in_seconds</th>\n",
       "      <th>upload_time</th>\n",
       "      <th>captured_time</th>\n",
       "      <th>num_dislikes</th>\n",
       "      <th>num_likes</th>\n",
       "      <th>video_desp</th>\n",
       "      <th>ratio</th>\n",
       "      <th>new_view_count</th>\n",
       "    </tr>\n",
       "  </thead>\n",
       "  <tbody>\n",
       "    <tr>\n",
       "      <th>441</th>\n",
       "      <td>Zidane headbutt</td>\n",
       "      <td>5985159</td>\n",
       "      <td>Sports</td>\n",
       "      <td>53</td>\n",
       "      <td>2006-07-10T10:58:41.000Z</td>\n",
       "      <td>01/18/13</td>\n",
       "      <td>295</td>\n",
       "      <td>5357</td>\n",
       "      <td>Zidane headbutts Materazzi in extra time of th...</td>\n",
       "      <td>0.947806</td>\n",
       "      <td>5.985159</td>\n",
       "    </tr>\n",
       "    <tr>\n",
       "      <th>442</th>\n",
       "      <td>Catch the Ice Dude</td>\n",
       "      <td>23840494</td>\n",
       "      <td>Comedy</td>\n",
       "      <td>79</td>\n",
       "      <td>2012-09-28T14:59:53.000Z</td>\n",
       "      <td>01/18/13</td>\n",
       "      <td>2533</td>\n",
       "      <td>105295</td>\n",
       "      <td>http://soundcloud.com/bipole/sets/bipole    ht...</td>\n",
       "      <td>0.976509</td>\n",
       "      <td>23.840494</td>\n",
       "    </tr>\n",
       "    <tr>\n",
       "      <th>443</th>\n",
       "      <td>Evaporating Water in -30C in Yellowknife, NWT</td>\n",
       "      <td>8659010</td>\n",
       "      <td>Tech</td>\n",
       "      <td>33</td>\n",
       "      <td>2010-01-02T00:35:00.000Z</td>\n",
       "      <td>01/18/13</td>\n",
       "      <td>124</td>\n",
       "      <td>10833</td>\n",
       "      <td>http://www.spectacularnwt.com On a winter day ...</td>\n",
       "      <td>0.988683</td>\n",
       "      <td>8.659010</td>\n",
       "    </tr>\n",
       "    <tr>\n",
       "      <th>444</th>\n",
       "      <td>Eating a Ghost Chili Pepper (Naga/Bhut Jolokia...</td>\n",
       "      <td>2841485</td>\n",
       "      <td>Entertainment</td>\n",
       "      <td>349</td>\n",
       "      <td>2011-10-11T05:18:35.000Z</td>\n",
       "      <td>01/18/13</td>\n",
       "      <td>1337</td>\n",
       "      <td>14778</td>\n",
       "      <td>This guy has never eaten a spicy thing in his ...</td>\n",
       "      <td>0.917034</td>\n",
       "      <td>2.841485</td>\n",
       "    </tr>\n",
       "    <tr>\n",
       "      <th>445</th>\n",
       "      <td>Girl Wrecks Hard On Bike Jump</td>\n",
       "      <td>1743823</td>\n",
       "      <td>Comedy</td>\n",
       "      <td>46</td>\n",
       "      <td>2011-07-09T21:47:31.000Z</td>\n",
       "      <td>01/18/13</td>\n",
       "      <td>60</td>\n",
       "      <td>4047</td>\n",
       "      <td>Rounded up the crew and headed off to the Alpi...</td>\n",
       "      <td>0.985391</td>\n",
       "      <td>1.743823</td>\n",
       "    </tr>\n",
       "  </tbody>\n",
       "</table>\n",
       "</div>"
      ],
      "text/plain": [
       "                                           video_title  view_count  \\\n",
       "441                                    Zidane headbutt     5985159   \n",
       "442                                 Catch the Ice Dude    23840494   \n",
       "443      Evaporating Water in -30C in Yellowknife, NWT     8659010   \n",
       "444  Eating a Ghost Chili Pepper (Naga/Bhut Jolokia...     2841485   \n",
       "445                      Girl Wrecks Hard On Bike Jump     1743823   \n",
       "\n",
       "          category  duration_in_seconds               upload_time  \\\n",
       "441         Sports                   53  2006-07-10T10:58:41.000Z   \n",
       "442         Comedy                   79  2012-09-28T14:59:53.000Z   \n",
       "443           Tech                   33  2010-01-02T00:35:00.000Z   \n",
       "444  Entertainment                  349  2011-10-11T05:18:35.000Z   \n",
       "445         Comedy                   46  2011-07-09T21:47:31.000Z   \n",
       "\n",
       "    captured_time  num_dislikes  num_likes  \\\n",
       "441      01/18/13           295       5357   \n",
       "442      01/18/13          2533     105295   \n",
       "443      01/18/13           124      10833   \n",
       "444      01/18/13          1337      14778   \n",
       "445      01/18/13            60       4047   \n",
       "\n",
       "                                            video_desp     ratio  \\\n",
       "441  Zidane headbutts Materazzi in extra time of th...  0.947806   \n",
       "442  http://soundcloud.com/bipole/sets/bipole    ht...  0.976509   \n",
       "443  http://www.spectacularnwt.com On a winter day ...  0.988683   \n",
       "444  This guy has never eaten a spicy thing in his ...  0.917034   \n",
       "445  Rounded up the crew and headed off to the Alpi...  0.985391   \n",
       "\n",
       "     new_view_count  \n",
       "441        5.985159  \n",
       "442       23.840494  \n",
       "443        8.659010  \n",
       "444        2.841485  \n",
       "445        1.743823  "
      ]
     },
     "execution_count": 20,
     "metadata": {},
     "output_type": "execute_result"
    }
   ],
   "source": [
    "df.tail()"
   ]
  },
  {
   "cell_type": "code",
   "execution_count": 22,
   "metadata": {},
   "outputs": [
    {
     "name": "stdout",
     "output_type": "stream",
     "text": [
      "<class 'pandas.core.frame.DataFrame'>\n",
      "RangeIndex: 446 entries, 0 to 445\n",
      "Data columns (total 11 columns):\n",
      " #   Column               Non-Null Count  Dtype  \n",
      "---  ------               --------------  -----  \n",
      " 0   video_title          446 non-null    object \n",
      " 1   view_count           446 non-null    int64  \n",
      " 2   category             446 non-null    object \n",
      " 3   duration_in_seconds  446 non-null    int64  \n",
      " 4   upload_time          446 non-null    object \n",
      " 5   captured_time        446 non-null    object \n",
      " 6   num_dislikes         446 non-null    int64  \n",
      " 7   num_likes            446 non-null    int64  \n",
      " 8   video_desp           445 non-null    object \n",
      " 9   ratio                446 non-null    float64\n",
      " 10  new_view_count       446 non-null    float64\n",
      "dtypes: float64(2), int64(4), object(5)\n",
      "memory usage: 38.5+ KB\n"
     ]
    }
   ],
   "source": [
    "#checking we have no missing values\n",
    "df.info()"
   ]
  },
  {
   "cell_type": "markdown",
   "metadata": {},
   "source": [
    "- There were 2 missing rows for the Ratio column: This was because the likes and dislikes for these videos are equal to 0, and dividing by 0 results in an error (NaN value). The ratio for these two rows has been assigned to 0.\n",
    "- The 'new_view_count' column is the 'view_count' column divided by 1 million. All the videos in the dataframe have at least 1 million views, so this new column enables us to look at the values in an easier way.\n",
    "- The 'ratio' column is the percentage of likes a video gets. It was calculated using the following formula: (num_likes/(num_likes + num_dislikes) * 100)"
   ]
  },
  {
   "cell_type": "markdown",
   "metadata": {},
   "source": [
    "## Plotting our data"
   ]
  },
  {
   "cell_type": "code",
   "execution_count": 23,
   "metadata": {},
   "outputs": [],
   "source": [
    "views = df.loc[ : , 'new_view_count'].values\n",
    "likes = df.loc[ : , 'num_likes'].values\n",
    "dislikes = df.loc[ : , 'num_dislikes'].values \n",
    "ratio = df.loc[ : , 'ratio'].values"
   ]
  },
  {
   "cell_type": "code",
   "execution_count": 24,
   "metadata": {},
   "outputs": [
    {
     "data": {
      "image/png": "[encoded data removed]",
      "text/plain": [
       "<Figure size 432x288 with 1 Axes>"
      ]
     },
     "metadata": {
      "needs_background": "light"
     },
     "output_type": "display_data"
    }
   ],
   "source": [
    "#lets plot views on the X axis and likes on the Y axis!\n",
    "\n",
    "plt.scatter(views, likes, s=10, c='blue')\n",
    "plt.xlabel('Views (Millions)')\n",
    "plt.ylabel('Likes')\n",
    "plt.title('Likes Over Views')\n",
    "plt.tight_layout()\n",
    "plt.style.use('seaborn')\n",
    "plt.savefig('likesoverviews.png', dpi=300)"
   ]
  },
  {
   "cell_type": "markdown",
   "metadata": {},
   "source": [
    "## Removing outliers"
   ]
  },
  {
   "cell_type": "code",
   "execution_count": 26,
   "metadata": {},
   "outputs": [
    {
     "data": {
      "image/png": "[encoded data removed]",
      "text/plain": [
       "<Figure size 576x396 with 1 Axes>"
      ]
     },
     "metadata": {},
     "output_type": "display_data"
    }
   ],
   "source": [
    "#removing outliers\n",
    "x = df['new_view_count']\n",
    "removed_outliers1 = x.between(x.quantile(.05), x.quantile(.95))\n",
    "y = df['num_likes']\n",
    "removed_outliers2 = y.between(y.quantile(.05), y.quantile(.95))\n",
    "#doing a scatterplot\n",
    "plt.scatter(x[removed_outliers1],y[removed_outliers2], s=10, c='blue')\n",
    "plt.xlabel('Views (Millions)')\n",
    "plt.ylabel('Likes')\n",
    "plt.title('Likes Over Views Without Outliers')\n",
    "plt.tight_layout()"
   ]
  },
  {
   "cell_type": "markdown",
   "metadata": {},
   "source": [
    "## Boxplots\n",
    "### Number of views by category\n"
   ]
  },
  {
   "cell_type": "code",
   "execution_count": 31,
   "metadata": {},
   "outputs": [
    {
     "data": {
      "image/png": "[encoded data removed]",
      "text/plain": [
       "<Figure size 576x396 with 1 Axes>"
      ]
     },
     "metadata": {},
     "output_type": "display_data"
    }
   ],
   "source": [
    "df.boxplot(column='new_view_count', by=\"category\", color=dict(boxes='b', whiskers='r', medians='y', caps='k'),\n",
    "             boxprops=dict(linestyle='-', linewidth=1.5),\n",
    "             flierprops=dict(linestyle='-', linewidth=1.5),\n",
    "             medianprops=dict(linestyle='-', linewidth=1.5),\n",
    "             whiskerprops=dict(linestyle='-', linewidth=1.5),\n",
    "             capprops=dict(linestyle='-', linewidth=1.5),\n",
    "             showfliers=False, grid=True, rot=90)\n",
    "plt.suptitle(\"\")\n",
    "plt.xlabel('Category')\n",
    "plt.ylabel('Views (Millions)')\n",
    "plt.title('Views by Category')\n",
    "plt.tight_layout()"
   ]
  },
  {
   "cell_type": "markdown",
   "metadata": {},
   "source": [
    "## Histogram\n",
    "### To look at how many videos from each category goes viral"
   ]
  },
  {
   "cell_type": "code",
   "execution_count": 35,
   "metadata": {},
   "outputs": [
    {
     "data": {
      "image/png": "[encoded data removed]",
      "text/plain": [
       "<Figure size 576x396 with 1 Axes>"
      ]
     },
     "metadata": {},
     "output_type": "display_data"
    }
   ],
   "source": [
    "df['category'].hist(edgecolor='black', bins=16)\n",
    "plt.xticks(rotation=90)\n",
    "plt.suptitle(\"\")\n",
    "plt.xlabel('Category')\n",
    "plt.ylabel('Number of Videos')\n",
    "plt.title('Categories With The Most Amount Of Viral Videos')\n",
    "plt.tight_layout()"
   ]
  }
 ],
 "metadata": {
  "kernelspec": {
   "display_name": "Python 3",
   "language": "python",
   "name": "python3"
  },
  "language_info": {
   "codemirror_mode": {
    "name": "ipython",
    "version": 3
   },
   "file_extension": ".py",
   "mimetype": "text/x-python",
   "name": "python",
   "nbconvert_exporter": "python",
   "pygments_lexer": "ipython3",
   "version": "3.8.3"
  }
 },
 "nbformat": 4,
 "nbformat_minor": 4
}
