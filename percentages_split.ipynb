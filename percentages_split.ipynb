{
 "cells": [
  {
   "cell_type": "code",
   "execution_count": 1,
   "metadata": {},
   "outputs": [],
   "source": [
    "import numpy as np\n",
    "import pandas as pd\n",
    "import matplotlib.pyplot as plt\n",
    "import seaborn as sns\n"
   ]
  },
  {
   "cell_type": "code",
   "execution_count": 2,
   "metadata": {},
   "outputs": [],
   "source": [
    "file_path = \"./viral_meta.csv\""
   ]
  },
  {
   "cell_type": "code",
   "execution_count": 5,
   "metadata": {},
   "outputs": [
    {
     "name": "stdout",
     "output_type": "stream",
     "text": [
      "<class 'pandas.core.frame.DataFrame'>\n",
      "RangeIndex: 446 entries, 0 to 445\n",
      "Data columns (total 18 columns):\n",
      " #   Column                Non-Null Count  Dtype  \n",
      "---  ------                --------------  -----  \n",
      " 0   video_id              446 non-null    object \n",
      " 1   video_title           446 non-null    object \n",
      " 2   view_count            446 non-null    int64  \n",
      " 3   category              446 non-null    object \n",
      " 4   duration_in_seconds   446 non-null    int64  \n",
      " 5   upload_time           446 non-null    object \n",
      " 6   captured_time         446 non-null    object \n",
      " 7   avg_rate              446 non-null    float64\n",
      " 8   max_rate              446 non-null    int64  \n",
      " 9   min_rate              446 non-null    int64  \n",
      " 10  num_raters            446 non-null    int64  \n",
      " 11  num_dislikes          446 non-null    int64  \n",
      " 12  num_likes             446 non-null    int64  \n",
      " 13  uploader_id           446 non-null    object \n",
      " 14  uploader_name         446 non-null    object \n",
      " 15  uploader_url          446 non-null    object \n",
      " 16  video_desp            427 non-null    object \n",
      " 17  Percentage_of_likes   446 non-null    float64\n",
      "dtypes: float64(2), int64(7), object(9)\n",
      "memory usage: 62.8+ KB\n"
     ]
    }
   ],
   "source": [
    "df = pd.read_csv(file_path)\n",
    "df.info()"
   ]
  },
  {
   "cell_type": "code",
   "execution_count": 9,
   "metadata": {},
   "outputs": [],
   "source": [
    "df[\"percentage_of_likes\"] = (df[\"num_likes\"] / (df[\"num_likes\"] + df[\"num_dislikes\"])) * 100"
   ]
  },
  {
   "cell_type": "code",
   "execution_count": 10,
   "metadata": {},
   "outputs": [],
   "source": [
    "percentage_of_likes = df[\"percentage_of_likes\"]"
   ]
  },
  {
   "cell_type": "code",
   "execution_count": 14,
   "metadata": {},
   "outputs": [],
   "source": [
    "first_sixth = []\n",
    "second_sixth = []\n",
    "third_sixth = []\n",
    "fourth_sixth = []\n",
    "fifth_sixth = []\n",
    "sixth_sixth = []\n",
    "for value in percentage_of_likes:\n",
    "    if value >= 0 and value < 70:\n",
    "        first_sixth.append(value)\n",
    "    elif value >= 70 and value < 80:\n",
    "        second_sixth.append(value)\n",
    "    elif value >= 80 and value < 85:\n",
    "        third_sixth.append(value)\n",
    "    elif value >= 85 and value < 90:\n",
    "        fourth_sixth.append(value)\n",
    "    elif value >= 90 and value < 95:\n",
    "        fifth_sixth.append(value)\n",
    "    elif value >= 95 and value <= 100:\n",
    "        sixth_sixth.append(value)"
   ]
  },
  {
   "cell_type": "code",
   "execution_count": 15,
   "metadata": {},
   "outputs": [
    {
     "name": "stdout",
     "output_type": "stream",
     "text": [
      "14\n",
      "20\n",
      "14\n",
      "26\n",
      "92\n",
      "278\n"
     ]
    }
   ],
   "source": [
    "print(len(first_sixth))\n",
    "print(len(second_sixth))\n",
    "print(len(third_sixth))\n",
    "print(len(fourth_sixth))\n",
    "print(len(fifth_sixth))\n",
    "print(len(sixth_sixth))"
   ]
  },
  {
   "cell_type": "code",
   "execution_count": null,
   "metadata": {},
   "outputs": [],
   "source": []
  }
 ],
 "metadata": {
  "kernelspec": {
   "display_name": "Python 3",
   "language": "python",
   "name": "python3"
  },
  "language_info": {
   "codemirror_mode": {
    "name": "ipython",
    "version": 3
   },
   "file_extension": ".py",
   "mimetype": "text/x-python",
   "name": "python",
   "nbconvert_exporter": "python",
   "pygments_lexer": "ipython3",
   "version": "3.8.5"
  }
 },
 "nbformat": 4,
 "nbformat_minor": 4
}
